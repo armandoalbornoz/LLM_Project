{
 "cells": [
  {
   "cell_type": "markdown",
   "id": "572b43d6-8cf1-44cb-9d8c-9553ff665b47",
   "metadata": {},
   "source": [
    "## Fine-tuning to follow instructions"
   ]
  },
  {
   "cell_type": "code",
   "execution_count": null,
   "id": "8f0f1cb9-2cbb-4b1e-a237-5ee829c20303",
   "metadata": {},
   "outputs": [],
   "source": []
  }
 ],
 "metadata": {
  "kernelspec": {
   "display_name": "Python 3 (ipykernel)",
   "language": "python",
   "name": "python3"
  },
  "language_info": {
   "codemirror_mode": {
    "name": "ipython",
    "version": 3
   },
   "file_extension": ".py",
   "mimetype": "text/x-python",
   "name": "python",
   "nbconvert_exporter": "python",
   "pygments_lexer": "ipython3",
   "version": "3.12.3"
  }
 },
 "nbformat": 4,
 "nbformat_minor": 5
}
