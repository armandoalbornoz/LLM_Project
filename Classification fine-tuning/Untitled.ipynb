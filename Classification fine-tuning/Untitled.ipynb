{
 "cells": [
  {
   "cell_type": "markdown",
   "id": "4eb12295-a920-466b-be84-f40d9cf72dd0",
   "metadata": {},
   "source": [
    "## Classification fine-tuning"
   ]
  },
  {
   "cell_type": "code",
   "execution_count": null,
   "id": "f9d7c06a-2b98-432d-8a54-0b8ebc47a758",
   "metadata": {},
   "outputs": [],
   "source": []
  }
 ],
 "metadata": {
  "kernelspec": {
   "display_name": "Python 3 (ipykernel)",
   "language": "python",
   "name": "python3"
  },
  "language_info": {
   "codemirror_mode": {
    "name": "ipython",
    "version": 3
   },
   "file_extension": ".py",
   "mimetype": "text/x-python",
   "name": "python",
   "nbconvert_exporter": "python",
   "pygments_lexer": "ipython3",
   "version": "3.12.3"
  }
 },
 "nbformat": 4,
 "nbformat_minor": 5
}
